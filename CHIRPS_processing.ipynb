{
 "cells": [
  {
   "cell_type": "code",
   "execution_count": 1,
   "id": "fbcc47e5",
   "metadata": {},
   "outputs": [
    {
     "name": "stdout",
     "output_type": "stream",
     "text": [
      "2023.4.2\n"
     ]
    }
   ],
   "source": [
    "############################################################################################################################################################################\n",
    "############################################################################## INSERT PACKAGES  ##################################################################\n",
    "############################################################################################################################################################################\n",
    "import os\n",
    "import pandas as pd \n",
    "import matplotlib.pyplot as plt\n",
    "import matplotlib.cm as cm\n",
    "import numpy as np\n",
    "import xarray as xr\n",
    "import geopandas as gpd\n",
    "import regionmask\n",
    "from datetime import datetime\n",
    "from scipy import stats\n",
    "import seaborn as sns\n",
    "import rioxarray\n",
    "from scipy import stats\n",
    "import cartopy\n",
    "import cartopy.crs as ccrs    \n",
    "import warnings\n",
    "import sys\n",
    "#warnings.simplefilter(action='ignore', category=FutureWarning)\n",
    "\n",
    "from shapely import wkt\n",
    "from rasterio.enums import Resampling\n",
    "from rasterio import rio\n",
    "\n",
    "#from function_def import rasterize_shp\n",
    "#from function_def import *\n",
    "from ML_functions import *\n",
    "\n",
    "print (xr.__version__)"
   ]
  },
  {
   "cell_type": "code",
   "execution_count": null,
   "id": "bd66faf1",
   "metadata": {},
   "outputs": [],
   "source": [
    "############################################################################################################################################################################\n",
    "############################################################################## SET DESIGN VARIABLES  ##################################################################\n",
    "############################################################################################################################################################################\n",
    "# spatial_scale='county' #LHZ\n",
    "# countries= ['Somalia','Ethiopia', 'Kenya'] #\n",
    "# input_dataframe= pd.DataFrame() \n",
    "# fews_aggregation='mean'"
   ]
  },
  {
   "cell_type": "code",
   "execution_count": 2,
   "id": "e2002d57",
   "metadata": {},
   "outputs": [],
   "source": [
    "############################################################################################################################################################################\n",
    "############################################################################## SET FOLDERS  ##################################################################\n",
    "############################################################################################################################################################################\n",
    "#input data \n",
    "BASE_FOLDER= '/scistor/ivm/tbr910/ML/input_collector' #'C:/Users/tbr910/Documents/ML/input_collector'\n",
    "\n",
    "# Vectors\n",
    "VECTOR_FOLDER=BASE_FOLDER+'/Vector/'#'C:/Users/tbr910/Documents/Forecast_action_analysis/vector_data/'\n",
    "# Raster\n",
    "RAINFALL_FOLDER= BASE_FOLDER+'/CLIM_data/Rainfall' #'C:/Users/tbr910/Documents/Forecast_action_analysis/CHIRPS025/HAD'\n",
    "CHIRPS_FOLDER=RAINFALL_FOLDER+'/CHIRPS005'\n",
    "CHIRPS_HAD_FOLDER= RAINFALL_FOLDER+'/CHIRPS005_HAD'\n",
    "NDVI_FOLDER=BASE_FOLDER+ '/CLIM_data/NDVI/NDVI_NOA_STAR_HAD_1981_2022' #C:/Users/tbr910/Documents/Forecast_action_analysis/impacts/NDVI/NDVI_NOA_STAR_HAD_1981_2022'\n",
    "\n",
    "SE_FOLDER= BASE_FOLDER+'/SE_data/'\n",
    "\n",
    "NDMA_FOLDER= BASE_FOLDER+'/NDMA_data/'\n",
    "CLIM_FOLDER = BASE_FOLDER+'/CLIM_data/'\n",
    "SST_FOLDER=CLIM_FOLDER+'/SST/'\n",
    "SM_FOLDER=CLIM_FOLDER+'/SM/'\n",
    "FC_FOLDER=BASE_FOLDER+'/FC_data/'"
   ]
  },
  {
   "cell_type": "code",
   "execution_count": null,
   "id": "67598bcb",
   "metadata": {},
   "outputs": [],
   "source": [
    "# ######### Crop rainfall for HAD region \n",
    "# os.chdir(CHIRPS_FOLDER)\n",
    "\n",
    "# for i in os.listdir():\n",
    "#     os.chdir(CHIRPS_FOLDER) ## unit mm/ time step \n",
    "#     rainfall=xr.open_dataset(i) \n",
    "#     rainfall=rainfall.rename({'x': 'longitude','y': 'latitude'}).drop('spatial_ref').squeeze('band').drop('band') # not necessary for TAMSAT\n",
    "#     rainfall=rainfall.assign_coords(time=pd.Timestamp(i[12:-3])).expand_dims('time')# not necessary for TAMSAT\n",
    "#     rainfall_HAD=rainfall.where((rainfall.latitude > -4.7) & (rainfall.latitude<14.9) & (rainfall.longitude > 33.0) &(rainfall.longitude < 51.4) , drop=True)\n",
    "#     rainfall_HAD=rainfall_HAD.rename(band_data='tp') #precip \n",
    "#     rainfall_HAD=rainfall_HAD.where(rainfall_HAD['tp']!=-9.999e+03) ## save -9999 values as NAN\n",
    "    \n",
    "#     # save crop to HAD folder \n",
    "#     os.chdir(CHIRPS_HAD_FOLDER)\n",
    "#     rainfall_HAD.to_netcdf(\"%s_sub_HAD.nc\" %(i[:-3]))  #for tamsat prate_tamsat -11:-7  for chirps --> \"chirps-v2_%s_sub_HAD.nc\" %(i)[14:-3]"
   ]
  },
  {
   "cell_type": "code",
   "execution_count": null,
   "id": "d1327066",
   "metadata": {},
   "outputs": [],
   "source": [
    "# ########## Open all files as one XR \n",
    "# os.chdir(CHIRPS_HAD_FOLDER)\n",
    "# P_HAD= xr.open_mfdataset([i for i in os.listdir() if 'ALL' not in i],combine='nested', concat_dim='time')#{'time':1, 'longitude':73, 'latitude':79}) #chunks={'time':10} "
   ]
  },
  {
   "cell_type": "code",
   "execution_count": null,
   "id": "7a1a99bb",
   "metadata": {},
   "outputs": [],
   "source": [
    "# P_HAD.to_netcdf(\"chirps-v2_005_ALL.nc\")  "
   ]
  },
  {
   "cell_type": "code",
   "execution_count": 3,
   "id": "9a05e2d5",
   "metadata": {},
   "outputs": [],
   "source": [
    "os.chdir(CHIRPS_HAD_FOLDER)\n",
    "rainfall_had=xr.open_dataset('chirps-v2_005_ALL.nc').load()\n",
    "rainfall_had=rainfall_had.sortby('time')"
   ]
  },
  {
   "cell_type": "code",
   "execution_count": 22,
   "id": "bc36fea5",
   "metadata": {},
   "outputs": [
    {
     "name": "stdout",
     "output_type": "stream",
     "text": [
      "<xarray.Dataset>\n",
      "Dimensions:    (time: 15491, latitude: 392, longitude: 368)\n",
      "Coordinates:\n",
      "  * longitude  (longitude) float64 33.03 33.08 33.13 33.18 ... 51.28 51.33 51.38\n",
      "  * latitude   (latitude) float64 14.87 14.82 14.77 ... -4.575 -4.625 -4.675\n",
      "  * time       (time) datetime64[ns] 1981-01-01 1981-01-02 ... 2023-05-31\n",
      "Data variables:\n",
      "    tp         (time, latitude, longitude) float32 0.0 0.0 0.0 ... nan nan nan\n"
     ]
    }
   ],
   "source": [
    "print(rainfall_had)"
   ]
  }
 ],
 "metadata": {
  "kernelspec": {
   "display_name": "Python 3 (ipykernel)",
   "language": "python",
   "name": "python3"
  },
  "language_info": {
   "codemirror_mode": {
    "name": "ipython",
    "version": 3
   },
   "file_extension": ".py",
   "mimetype": "text/x-python",
   "name": "python",
   "nbconvert_exporter": "python",
   "pygments_lexer": "ipython3",
   "version": "3.10.11"
  }
 },
 "nbformat": 4,
 "nbformat_minor": 5
}
